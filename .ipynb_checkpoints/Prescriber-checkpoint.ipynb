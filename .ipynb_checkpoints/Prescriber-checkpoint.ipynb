{
 "cells": [
  {
   "cell_type": "markdown",
   "metadata": {},
   "source": [
    "# The Data Incubator 2020 summer : Data Filtering"
   ]
  },
  {
   "cell_type": "code",
   "execution_count": 2,
   "metadata": {},
   "outputs": [],
   "source": [
    "import numpy as np\n",
    "import pandas as pd\n",
    "import time\n",
    "\n",
    "%matplotlib widget\n",
    "import matplotlib.pyplot as plt"
   ]
  },
  {
   "cell_type": "markdown",
   "metadata": {},
   "source": [
    "---"
   ]
  },
  {
   "cell_type": "markdown",
   "metadata": {},
   "source": [
    "## Section 2:\n",
    "The [Center for Medicare & Medicaid Services](https://www.cms.gov/) publishes aggregate information on [Medicare Part D Prescription Drug coverage](https://www.cms.gov/Research-Statistics-Data-and-Systems/Statistics-Trends-and-Reports/Medicare-Provider-Charge-Data/Part-D-Prescriber.html). We will be investigating their \"Provider Summary Table\", which reports on the prescriptions covered by Medicare Part D for each health-care provider.\n",
    "\n",
    "The first questions will address only data from 2017. This table is [available for download](http://download.cms.gov/Research-Statistics-Data-and-Systems/Statistics-Trends-and-Reports/Medicare-Provider-Charge-Data/Downloads/PartD_Prescriber_PUF_NPI_17.zip). The structure of the data is described in [this document](https://www.cms.gov/Research-Statistics-Data-and-Systems/Statistics-Trends-and-Reports/Medicare-Provider-Charge-Data/Downloads/Prescriber_Methods.pdf).\n",
    "\n",
    "The last two questions compare the 2017 data with [2016 data](http://download.cms.gov/Research-Statistics-Data-and-Systems/Statistics-Trends-and-Reports/Medicare-Provider-Charge-Data/Downloads/PartD_Prescriber_PUF_NPI_16.zip). The NPI code can be used to track providers across years."
   ]
  },
  {
   "cell_type": "code",
   "execution_count": 3,
   "metadata": {},
   "outputs": [],
   "source": [
    "data_17 = pd.read_csv(\"PartD_Prescriber_PUF_NPI_17/PartD_Prescriber_PUF_NPI_17.txt\",delimiter=\"\\t\")"
   ]
  },
  {
   "cell_type": "code",
   "execution_count": 4,
   "metadata": {},
   "outputs": [
    {
     "data": {
      "text/html": [
       "<div>\n",
       "<style scoped>\n",
       "    .dataframe tbody tr th:only-of-type {\n",
       "        vertical-align: middle;\n",
       "    }\n",
       "\n",
       "    .dataframe tbody tr th {\n",
       "        vertical-align: top;\n",
       "    }\n",
       "\n",
       "    .dataframe thead th {\n",
       "        text-align: right;\n",
       "    }\n",
       "</style>\n",
       "<table border=\"1\" class=\"dataframe\">\n",
       "  <thead>\n",
       "    <tr style=\"text-align: right;\">\n",
       "      <th></th>\n",
       "      <th>npi</th>\n",
       "      <th>nppes_provider_last_org_name</th>\n",
       "      <th>nppes_provider_first_name</th>\n",
       "      <th>nppes_provider_mi</th>\n",
       "      <th>nppes_credentials</th>\n",
       "      <th>nppes_provider_gender</th>\n",
       "      <th>nppes_entity_code</th>\n",
       "      <th>nppes_provider_street1</th>\n",
       "      <th>nppes_provider_street2</th>\n",
       "      <th>nppes_provider_city</th>\n",
       "      <th>...</th>\n",
       "      <th>beneficiary_male_count</th>\n",
       "      <th>beneficiary_race_white_count</th>\n",
       "      <th>beneficiary_race_black_count</th>\n",
       "      <th>beneficiary_race_asian_pi_count</th>\n",
       "      <th>beneficiary_race_hispanic_count</th>\n",
       "      <th>beneficiary_race_nat_ind_count</th>\n",
       "      <th>beneficiary_race_other_count</th>\n",
       "      <th>beneficiary_nondual_count</th>\n",
       "      <th>beneficiary_dual_count</th>\n",
       "      <th>beneficiary_average_risk_score</th>\n",
       "    </tr>\n",
       "  </thead>\n",
       "  <tbody>\n",
       "    <tr>\n",
       "      <th>0</th>\n",
       "      <td>1003000126</td>\n",
       "      <td>ENKESHAFI</td>\n",
       "      <td>ARDALAN</td>\n",
       "      <td>NaN</td>\n",
       "      <td>M.D.</td>\n",
       "      <td>M</td>\n",
       "      <td>I</td>\n",
       "      <td>900 SETON DR</td>\n",
       "      <td>NaN</td>\n",
       "      <td>CUMBERLAND</td>\n",
       "      <td>...</td>\n",
       "      <td>92.0</td>\n",
       "      <td>220.0</td>\n",
       "      <td>14.0</td>\n",
       "      <td>0.0</td>\n",
       "      <td>0.0</td>\n",
       "      <td>0.0</td>\n",
       "      <td>0.0</td>\n",
       "      <td>143.0</td>\n",
       "      <td>91.0</td>\n",
       "      <td>2.1685</td>\n",
       "    </tr>\n",
       "    <tr>\n",
       "      <th>1</th>\n",
       "      <td>1003000142</td>\n",
       "      <td>KHALIL</td>\n",
       "      <td>RASHID</td>\n",
       "      <td>NaN</td>\n",
       "      <td>M.D.</td>\n",
       "      <td>M</td>\n",
       "      <td>I</td>\n",
       "      <td>4126 N HOLLAND SYLVANIA RD</td>\n",
       "      <td>SUITE 220</td>\n",
       "      <td>TOLEDO</td>\n",
       "      <td>...</td>\n",
       "      <td>92.0</td>\n",
       "      <td>195.0</td>\n",
       "      <td>58.0</td>\n",
       "      <td>NaN</td>\n",
       "      <td>NaN</td>\n",
       "      <td>0.0</td>\n",
       "      <td>NaN</td>\n",
       "      <td>143.0</td>\n",
       "      <td>133.0</td>\n",
       "      <td>1.8029</td>\n",
       "    </tr>\n",
       "    <tr>\n",
       "      <th>2</th>\n",
       "      <td>1003000167</td>\n",
       "      <td>ESCOBAR</td>\n",
       "      <td>JULIO</td>\n",
       "      <td>E</td>\n",
       "      <td>DDS</td>\n",
       "      <td>M</td>\n",
       "      <td>I</td>\n",
       "      <td>5 PINE CONE RD</td>\n",
       "      <td>NaN</td>\n",
       "      <td>DAYTON</td>\n",
       "      <td>...</td>\n",
       "      <td>17.0</td>\n",
       "      <td>NaN</td>\n",
       "      <td>0.0</td>\n",
       "      <td>0.0</td>\n",
       "      <td>NaN</td>\n",
       "      <td>0.0</td>\n",
       "      <td>0.0</td>\n",
       "      <td>NaN</td>\n",
       "      <td>NaN</td>\n",
       "      <td>1.0598</td>\n",
       "    </tr>\n",
       "    <tr>\n",
       "      <th>3</th>\n",
       "      <td>1003000175</td>\n",
       "      <td>REYES-VASQUEZ</td>\n",
       "      <td>BELINDA</td>\n",
       "      <td>NaN</td>\n",
       "      <td>D.D.S.</td>\n",
       "      <td>F</td>\n",
       "      <td>I</td>\n",
       "      <td>322 N AZUSA AVE STE 202</td>\n",
       "      <td>NaN</td>\n",
       "      <td>LA PUENTE</td>\n",
       "      <td>...</td>\n",
       "      <td>NaN</td>\n",
       "      <td>NaN</td>\n",
       "      <td>NaN</td>\n",
       "      <td>NaN</td>\n",
       "      <td>NaN</td>\n",
       "      <td>NaN</td>\n",
       "      <td>NaN</td>\n",
       "      <td>NaN</td>\n",
       "      <td>NaN</td>\n",
       "      <td>NaN</td>\n",
       "    </tr>\n",
       "    <tr>\n",
       "      <th>4</th>\n",
       "      <td>1003000282</td>\n",
       "      <td>BLAKEMORE</td>\n",
       "      <td>ROSIE</td>\n",
       "      <td>K</td>\n",
       "      <td>FNP</td>\n",
       "      <td>F</td>\n",
       "      <td>I</td>\n",
       "      <td>TENNESSEE PRISON FOR WOMEN</td>\n",
       "      <td>3881 STEWARTS LANE</td>\n",
       "      <td>NASHVILLE</td>\n",
       "      <td>...</td>\n",
       "      <td>NaN</td>\n",
       "      <td>NaN</td>\n",
       "      <td>NaN</td>\n",
       "      <td>0.0</td>\n",
       "      <td>NaN</td>\n",
       "      <td>0.0</td>\n",
       "      <td>0.0</td>\n",
       "      <td>NaN</td>\n",
       "      <td>NaN</td>\n",
       "      <td>4.5148</td>\n",
       "    </tr>\n",
       "  </tbody>\n",
       "</table>\n",
       "<p>5 rows × 84 columns</p>\n",
       "</div>"
      ],
      "text/plain": [
       "          npi nppes_provider_last_org_name nppes_provider_first_name  \\\n",
       "0  1003000126                    ENKESHAFI                   ARDALAN   \n",
       "1  1003000142                       KHALIL                    RASHID   \n",
       "2  1003000167                      ESCOBAR                     JULIO   \n",
       "3  1003000175                REYES-VASQUEZ                   BELINDA   \n",
       "4  1003000282                    BLAKEMORE                     ROSIE   \n",
       "\n",
       "  nppes_provider_mi nppes_credentials nppes_provider_gender nppes_entity_code  \\\n",
       "0               NaN              M.D.                     M                 I   \n",
       "1               NaN              M.D.                     M                 I   \n",
       "2                 E               DDS                     M                 I   \n",
       "3               NaN            D.D.S.                     F                 I   \n",
       "4                 K               FNP                     F                 I   \n",
       "\n",
       "       nppes_provider_street1 nppes_provider_street2 nppes_provider_city  ...  \\\n",
       "0                900 SETON DR                    NaN          CUMBERLAND  ...   \n",
       "1  4126 N HOLLAND SYLVANIA RD              SUITE 220              TOLEDO  ...   \n",
       "2              5 PINE CONE RD                    NaN              DAYTON  ...   \n",
       "3     322 N AZUSA AVE STE 202                    NaN           LA PUENTE  ...   \n",
       "4  TENNESSEE PRISON FOR WOMEN     3881 STEWARTS LANE           NASHVILLE  ...   \n",
       "\n",
       "   beneficiary_male_count  beneficiary_race_white_count  \\\n",
       "0                    92.0                         220.0   \n",
       "1                    92.0                         195.0   \n",
       "2                    17.0                           NaN   \n",
       "3                     NaN                           NaN   \n",
       "4                     NaN                           NaN   \n",
       "\n",
       "  beneficiary_race_black_count beneficiary_race_asian_pi_count  \\\n",
       "0                         14.0                             0.0   \n",
       "1                         58.0                             NaN   \n",
       "2                          0.0                             0.0   \n",
       "3                          NaN                             NaN   \n",
       "4                          NaN                             0.0   \n",
       "\n",
       "  beneficiary_race_hispanic_count beneficiary_race_nat_ind_count  \\\n",
       "0                             0.0                            0.0   \n",
       "1                             NaN                            0.0   \n",
       "2                             NaN                            0.0   \n",
       "3                             NaN                            NaN   \n",
       "4                             NaN                            0.0   \n",
       "\n",
       "  beneficiary_race_other_count  beneficiary_nondual_count  \\\n",
       "0                          0.0                      143.0   \n",
       "1                          NaN                      143.0   \n",
       "2                          0.0                        NaN   \n",
       "3                          NaN                        NaN   \n",
       "4                          0.0                        NaN   \n",
       "\n",
       "   beneficiary_dual_count  beneficiary_average_risk_score  \n",
       "0                    91.0                          2.1685  \n",
       "1                   133.0                          1.8029  \n",
       "2                     NaN                          1.0598  \n",
       "3                     NaN                             NaN  \n",
       "4                     NaN                          4.5148  \n",
       "\n",
       "[5 rows x 84 columns]"
      ]
     },
     "execution_count": 4,
     "metadata": {},
     "output_type": "execute_result"
    }
   ],
   "source": [
    "data_17.head()"
   ]
  },
  {
   "cell_type": "code",
   "execution_count": 6,
   "metadata": {},
   "outputs": [],
   "source": [
    "# data_16 = pd.read_csv(\"PartD_Prescriber_PUF_NPI_16/PartD_Prescriber_PUF_NPI_16.txt\",delimiter=\"\\t\")"
   ]
  },
  {
   "cell_type": "code",
   "execution_count": 8,
   "metadata": {},
   "outputs": [],
   "source": [
    "# data_16.head()"
   ]
  },
  {
   "cell_type": "code",
   "execution_count": 9,
   "metadata": {},
   "outputs": [],
   "source": [
    "LABEL_dict = {\n",
    "    \"npi\"                               : \"National Provider Identifier\",\n",
    "    \"nppes_provider_last_org_name\"      : \"Last Name/Organization Name of the Provider\",\n",
    "    \"nppes_provider_first_name\"         : \"First Name of the Provider\",\n",
    "    \"nppes_provider_mi\"                 : \"Middle Initial of the Provider\",\n",
    "    \"nppes_credentials\"                 : \"Credentials of the Provider\",\n",
    "    \"nppes_provider_gender\"             : \"Gender of the Provider\",\n",
    "    \"nppes_entity_code\"                 : \"Entity Type of the Provider\",\n",
    "    \"nppes_provider_street1\"            : \"Street Address 1 of the Provider\",\n",
    "    \"nppes_provider_street2\"            : \"Street Address 2 of the Provider\",\n",
    "    \"nppes_provider_city\"               : \"City of the Provider\",\n",
    "    \"nppes_provider_zip5\"               : \"Zip Code of the Provider (first five digits)\",\n",
    "    \"nppes_provider_zip4\"               : \"Zip Code of the Provider (last four digits)\",\n",
    "    \"nppes_provider_state\"              : \"State Code of the Provider\",\n",
    "    \"nppes_provider_country\"            : \"Country Code of the Provider\",\n",
    "    \"specialty_description\"             : \"Provider Specialty Type\",\n",
    "    \"description_flag\"                  : \"Source of Provider Specialty\",\n",
    "    \"medicare_prvdr_enroll_status\"      : \"Enrollment Status of the Provider in the Medicare Program\",\n",
    "    \"total_claim_count\"                 : \"Number of Medicare Part D Claims, Including Refills\",\n",
    "    \"total_30_day_fill_count\"           : \"Number of Standardized 30-Day Fills, Including Refills\",\n",
    "    \"total_drug_cost\"                   : \"Aggregate Cost Paid for All Claims\",\n",
    "    \"total_day_supply\"                  : \"Number of Day's Supply for All Claims\",\n",
    "    \"bene_count\"                        : \"Number of Medicare Beneficiaries\",\n",
    "    \"ge65_suppress_flag\"                : \"Reason for Suppression of Total_Claim_Count_Ge65, Total_30_Day_Fill_Count_Ge65, Total_Drug_Cost_Ge65, and Total_Day_Supply_Ge65\",\n",
    "    \"total_claim_count_ge65\"            : \"Number of Claims, Including Refills, for Beneficiaries Age 65+\",\n",
    "    \"total_30_day_fill_count_ge65\"      : \"Number of Standardized 30-Day Fills, Including Refills, for Beneficiaries Age 65+\",\n",
    "    \"total_drug_cost_ge65\"              : \"Aggregate Cost Paid for All Claims for Beneficiaries Age 65+\",\n",
    "    \"total_day_supply_ge65\"             : \"Number of Day's Supply for All Claims for Beneficiaries Age 65+\",\n",
    "    \"bene_count_ge65_suppress_flag\"     : \"Reason for Suppression of Bene_Count_Ge65\",\n",
    "    \"bene_count_ge65\"                   : \"Number of Medicare Beneficiaries Age 65+\",\n",
    "    \"brand_suppress_flag\"               : \"Reason for Suppression of Brand_Claim_Count and Brand_Drug_Cost\",\n",
    "    \"brand_claim_count\"                 : \"Total Claims of Brand-Name Drugs, Including Refills\",\n",
    "    \"brand_drug_cost\"                   : \"Aggregate Cost Paid for Brand-Name Drugs\"    ,\n",
    "    \"generic_suppress_flag\"             : \"Reason for Suppression of Generic_Claim_Count and Generic_Drug_Cost\",\n",
    "    \"generic_claim_count\"               : \"Total Claims of Generic Drugs, Including Refills\",\n",
    "    \"generic_drug_cost\"                 : \"Aggregate Cost Paid for Generic Drugs\",\n",
    "    \"other_suppress_flag\"               : \"Reason for Suppression of Other_Claim_Count and Other_Drug_Cost\",\n",
    "    \"other_claim_count\"                 : \"Total Claims of Other Drugs, Including Refills\"        ,\n",
    "    \"other_drug_cost\"                   : \"Aggregate Cost Paid for Other Drugs\",\n",
    "    \"mapd_suppress_flag\"                : \"Reason for Suppression of MAPD_Claim_Count and MAPD_Drug_Cost\",\n",
    "    \"mapd_claim_count\"                  : \"Number of Claims for Beneficiaries Covered by MAPD Plans\",\n",
    "    \"mapd_drug_cost\"                    : \"Aggregate Cost Paid for Claims Filled by Beneficiaries in MAPD Plans\",\n",
    "    \"pdp_suppress_flag\"                 : \"Reason for Suppression of PDP_Claim_Count and PDP_Drug_Cost\",\n",
    "    \"pdp_claim_count\"                   : \"Number of Claims for Beneficiaries Covered by Standalone PDP Plans\",\n",
    "    \"pdp_drug_cost\"                     : \"Aggregate Cost Paid for Claims Filled by Beneficiaries in Standalone PDP Plans\",\n",
    "    \"lis_suppress_flag\"                 : \"Reason for Suppression of LIS_Claim_Count and LIS_Drug_Cost\",\n",
    "    \"lis_claim_count\"                   : \"Number of Claims for Beneficiaries Covered by Low-Income Subsidy\",\n",
    "    \"lis_drug_cost\"                     : \"Aggregate Cost Paid for Claims Covered by Low-Income Subsidy\",\n",
    "    \"nonlis_suppress_flag\"              : \"Reason for Suppression of NonLIS_Claim_Count and NonLIS_Drug_Cost\",\n",
    "    \"nonlis_claim_count\"                : \"Number of Claims for Beneficiaries Not Covered by Low-Income Subsidy\"    ,\n",
    "    \"nonlis_drug_cost\"                  : \"Aggregate Cost Paid for Claims Not Covered by Low-Income Subsidy\",\n",
    "    \"opioid_claim_count\"                : \"Total Claims of Opioid Drugs, Including Refills\",\n",
    "    \"opioid_drug_cost\"                  : \"Aggregate Cost Paid for Opioid Drugs\",\n",
    "    \"opioid_day_supply\"                 : \"Number of Day's Supply for All Opioid Drugs\",\n",
    "    \"opioid_bene_count\"                 : \"Number of Medicare Beneficiaries Filling Opioid Claims\",\n",
    "    \"opioid_prescriber_rate\"            : \"Percent of Total_Claim_Count Represented by Opioid_Claim_Count\",\n",
    "    \"la_opioid_claim_count\"             : \"Total Claims of Long-Acting Opioid Drugs, Including Refills\",\n",
    "    \"la_opioid_drug_cost\"               : \"Aggregate Cost Paid for Long-Acting Opioid Drugs\",\n",
    "    \"la_opioid_day_supply\"              : \"Number of Day's Supply for All Long-Acting Opioid Drugs\",\n",
    "    \"la_opioid_bene_count\"              : \"Number of Medicare Beneficiaries Filling Long-Acting Opioid Claims\",\n",
    "    \"la_opioid_prescriber_rate\"         : \"Percent of Opioid_Claim_Count Represented by LA_Opioid_Claim_Count\",\n",
    "    \"antibiotic_claim_count\"            : \"Total Claims of Antibiotic Drugs, Including Refills\",\n",
    "    \"antibiotic_drug_cost\"              : \"Aggregate Cost Paid for Antibiotic Drugs\",\n",
    "    \"antibiotic_bene_count\"             : \"Number of Medicare Beneficiaries Filling Antibiotic Claims\",\n",
    "    \"antipsych_ge65_suppress_flag\"      : \"Reason for Suppression of Antipsych_Claim_Count_Ge65 and Antipsych_Drug_Cost_Ge65\",\n",
    "    \"antipsych_claim_count_ge65\"        : \"Total Claims of Antipsychotic Drugs, Including Refills, for Beneficiaries Age 65+\",\n",
    "    \"antipsych_drug_cost_ge65\"          : \"Aggregate Cost Paid for Antipsychotic Drugs for Beneficiaries Age 65+\",\n",
    "    \"antipsych_bene_ge65_suppress_flg\"  : \"Reason for Suppression of Antipsych_Bene_Count_Ge65\",\n",
    "    \"antipsych_bene_count_ge65\"         : \"Number of Medicare Beneficiaries Age 65+ Filling Antipsychotic Claims\",\n",
    "    \"average_age_of_beneficiaries\"      : \"Average Age of Beneficiaries\",\n",
    "    \"beneficiary_age_less_65_count\"     : \"Number of Beneficiaries Age Less Than 65\",\n",
    "    \"beneficiary_age_65_74_count\"       : \"Number of Beneficiaries Age 65 to 74\",\n",
    "    \"beneficiary_age_75_84_count\"       : \"Number of Beneficiaries Age 75 to 84\",\n",
    "    \"beneficiary_age_greater_84_count\"  : \"Number of Beneficiaries Age Greater Than 84\",\n",
    "    \"beneficiary_female_count\"          : \"Number of Female Beneficiaries\",\n",
    "    \"beneficiary_male_count\"            : \"Number of Male Beneficiaries\",\n",
    "    \"beneficiary_race_white_count\"      : \"Number of Non-Hispanic White Beneficiaries\",\n",
    "    \"beneficiary_race_black_count\"      : \"Number of Black or African American Beneficiaries\",\n",
    "    \"beneficiary_race_asian_pi_count\"   : \"Number of Asian Pacific Islander Beneficiaries\",\n",
    "    \"beneficiary_race_hispanic_count\"   : \"Number of Hispanic Beneficiaries\",\n",
    "    \"beneficiary_race_nat_ind_count\"    : \"Number of American Indian/Alaskan Native Beneficiaries\",\n",
    "    \"beneficiary_race_other_count\"      : \"Number of Beneficiaries with Race Not Elsewhere Classified\",\n",
    "    \"beneficiary_nondual_count\"         : \"Number of Beneficiaries with Medicare Only Entitlement\",\n",
    "    \"beneficiary_dual_count\"            : \"Number of Beneficiaries with Medicare & Medicaid Entitlement\",\n",
    "    \"beneficiary_average_risk_score\"    : \"Average Hierarchical Condition Category (HCC) Risk Score of Beneficiaries\"\n",
    "}"
   ]
  },
  {
   "cell_type": "markdown",
   "metadata": {},
   "source": [
    "---"
   ]
  },
  {
   "cell_type": "markdown",
   "metadata": {},
   "source": [
    "### Question 1:\n",
    "#### In 2017, what was the average number of beneficiaries per provider? Due to the suppression of data for those with few beneficiaries, we can only include those with more than 10 beneficiaries."
   ]
  },
  {
   "cell_type": "code",
   "execution_count": 10,
   "metadata": {},
   "outputs": [
    {
     "name": "stdout",
     "output_type": "stream",
     "text": [
      "158.3494585173676\n"
     ]
    }
   ],
   "source": [
    "print(data_17[data_17[\"bene_count\"]>10][\"bene_count\"].sum() / data_17[data_17[\"bene_count\"]>10][\"bene_count\"].count())"
   ]
  },
  {
   "cell_type": "code",
   "execution_count": 11,
   "metadata": {},
   "outputs": [
    {
     "name": "stdout",
     "output_type": "stream",
     "text": [
      "141.02061917726232\n"
     ]
    }
   ],
   "source": [
    "# if we assume providers with beneficiaries<=10 has as average of 5.5, \n",
    "# i.e. with the assumption they are distributed uniformly in the range [1,2,..10]\n",
    "print((data_17[\"bene_count\"].isna().sum()*5.5+data_17[\"bene_count\"].sum())/(data_17[\"bene_count\"].count()+data_17[\"bene_count\"].isna().sum()))"
   ]
  },
  {
   "cell_type": "markdown",
   "metadata": {},
   "source": [
    "---"
   ]
  },
  {
   "cell_type": "markdown",
   "metadata": {},
   "source": [
    "### Question 2:\n",
    "#### For each provider, estimate the length of the average prescription from the total_day_supply and total_claim_count. What is the median, in days, of the distribution of this value across all providers?"
   ]
  },
  {
   "cell_type": "code",
   "execution_count": 12,
   "metadata": {},
   "outputs": [],
   "source": [
    "temp_17 = data_17[[\"npi\",\"total_day_supply\",\"total_claim_count\"]]"
   ]
  },
  {
   "cell_type": "code",
   "execution_count": 13,
   "metadata": {},
   "outputs": [
    {
     "name": "stderr",
     "output_type": "stream",
     "text": [
      "/Library/Frameworks/Python.framework/Versions/3.7/lib/python3.7/site-packages/pandas/core/indexing.py:845: SettingWithCopyWarning: \n",
      "A value is trying to be set on a copy of a slice from a DataFrame.\n",
      "Try using .loc[row_indexer,col_indexer] = value instead\n",
      "\n",
      "See the caveats in the documentation: https://pandas.pydata.org/pandas-docs/stable/user_guide/indexing.html#returning-a-view-versus-a-copy\n",
      "  self.obj[key] = _infer_fill_value(value)\n",
      "/Library/Frameworks/Python.framework/Versions/3.7/lib/python3.7/site-packages/pandas/core/indexing.py:966: SettingWithCopyWarning: \n",
      "A value is trying to be set on a copy of a slice from a DataFrame.\n",
      "Try using .loc[row_indexer,col_indexer] = value instead\n",
      "\n",
      "See the caveats in the documentation: https://pandas.pydata.org/pandas-docs/stable/user_guide/indexing.html#returning-a-view-versus-a-copy\n",
      "  self.obj[item] = s\n"
     ]
    }
   ],
   "source": [
    "temp_17.loc[:,\"avg_pres_length\"] = 0\n",
    "temp_17.loc[:,\"avg_pres_length\"] = (temp_17[\"total_day_supply\"]/temp_17[\"total_claim_count\"])"
   ]
  },
  {
   "cell_type": "code",
   "execution_count": 14,
   "metadata": {},
   "outputs": [
    {
     "name": "stdout",
     "output_type": "stream",
     "text": [
      "29.7125748502994\n"
     ]
    }
   ],
   "source": [
    "print(temp_17[\"avg_pres_length\"].median())"
   ]
  },
  {
   "cell_type": "markdown",
   "metadata": {},
   "source": [
    "---"
   ]
  },
  {
   "cell_type": "markdown",
   "metadata": {},
   "source": [
    "### Question 3:\n",
    "#### Work out for each Specialty the fraction of drug claims that are for brand-name drugs. Include only providers for whom the relevant information has not been suppressed, and consider only specialties with at least 1000 total claims. What is the standard deviation of these fractions?"
   ]
  },
  {
   "cell_type": "code",
   "execution_count": 15,
   "metadata": {},
   "outputs": [
    {
     "name": "stdout",
     "output_type": "stream",
     "text": [
      "0.09664998667912823\n"
     ]
    }
   ],
   "source": [
    "temp_17 = data_17[[\"total_claim_count\",\"brand_claim_count\",\"specialty_description\"]].dropna()\n",
    "temp_17 = temp_17.groupby([\"specialty_description\"]).sum()\n",
    "temp_17 = temp_17[temp_17[\"total_claim_count\"]>=1000]\n",
    "\n",
    "temp_17.loc[:,\"brand_frac\"] = temp_17.loc[:,\"brand_claim_count\"]/temp_17.loc[:,\"total_claim_count\"]\n",
    "print(temp_17[\"brand_frac\"].std())\n",
    "# temp_17"
   ]
  },
  {
   "cell_type": "markdown",
   "metadata": {},
   "source": [
    "---"
   ]
  },
  {
   "cell_type": "markdown",
   "metadata": {},
   "source": [
    "### Question 4:\n",
    "#### Find the ratio of beneficiaries with opioid prescriptions to beneficiaries with antibiotics prescriptions in each state. Assume that each beneficiary attends only a single provider. What is the difference between the largest and smallest ratios?"
   ]
  },
  {
   "cell_type": "code",
   "execution_count": 16,
   "metadata": {},
   "outputs": [
    {
     "name": "stdout",
     "output_type": "stream",
     "text": [
      "0.501559277375204\n"
     ]
    },
    {
     "data": {
      "text/html": [
       "<div>\n",
       "<style scoped>\n",
       "    .dataframe tbody tr th:only-of-type {\n",
       "        vertical-align: middle;\n",
       "    }\n",
       "\n",
       "    .dataframe tbody tr th {\n",
       "        vertical-align: top;\n",
       "    }\n",
       "\n",
       "    .dataframe thead th {\n",
       "        text-align: right;\n",
       "    }\n",
       "</style>\n",
       "<table border=\"1\" class=\"dataframe\">\n",
       "  <thead>\n",
       "    <tr style=\"text-align: right;\">\n",
       "      <th></th>\n",
       "      <th>opioid_bene_count</th>\n",
       "      <th>antibiotic_bene_count</th>\n",
       "      <th>op_an_ratio</th>\n",
       "    </tr>\n",
       "    <tr>\n",
       "      <th>nppes_provider_state</th>\n",
       "      <th></th>\n",
       "      <th></th>\n",
       "      <th></th>\n",
       "    </tr>\n",
       "  </thead>\n",
       "  <tbody>\n",
       "    <tr>\n",
       "      <th>OR</th>\n",
       "      <td>282816.0</td>\n",
       "      <td>328804.0</td>\n",
       "      <td>0.860136</td>\n",
       "    </tr>\n",
       "    <tr>\n",
       "      <th>PR</th>\n",
       "      <td>136373.0</td>\n",
       "      <td>380318.0</td>\n",
       "      <td>0.358576</td>\n",
       "    </tr>\n",
       "  </tbody>\n",
       "</table>\n",
       "</div>"
      ],
      "text/plain": [
       "                      opioid_bene_count  antibiotic_bene_count  op_an_ratio\n",
       "nppes_provider_state                                                       \n",
       "OR                             282816.0               328804.0     0.860136\n",
       "PR                             136373.0               380318.0     0.358576"
      ]
     },
     "execution_count": 16,
     "metadata": {},
     "output_type": "execute_result"
    }
   ],
   "source": [
    "temp_17 = data_17[[\"nppes_provider_state\",\"opioid_bene_count\",\"antibiotic_bene_count\"]].dropna()\n",
    "temp_17 = temp_17.groupby([\"nppes_provider_state\"]).sum()\n",
    "# temp_17 = temp_17.loc[~(temp_17==0).any(axis=1)]\n",
    "temp_17.loc[:,\"op_an_ratio\"] = 0\n",
    "temp_17.loc[:,\"op_an_ratio\"] = temp_17.loc[:,\"opioid_bene_count\"]/temp_17.loc[:,\"antibiotic_bene_count\"]\n",
    "print(temp_17[\"op_an_ratio\"].max()-temp_17[\"op_an_ratio\"].min())\n",
    "temp_17[(temp_17[\"op_an_ratio\"]==temp_17[\"op_an_ratio\"].max()) | (temp_17[\"op_an_ratio\"]==temp_17[\"op_an_ratio\"].min())]"
   ]
  },
  {
   "cell_type": "code",
   "execution_count": 17,
   "metadata": {},
   "outputs": [
    {
     "name": "stdout",
     "output_type": "stream",
     "text": [
      "0.6875792506621659\n"
     ]
    },
    {
     "data": {
      "text/html": [
       "<div>\n",
       "<style scoped>\n",
       "    .dataframe tbody tr th:only-of-type {\n",
       "        vertical-align: middle;\n",
       "    }\n",
       "\n",
       "    .dataframe tbody tr th {\n",
       "        vertical-align: top;\n",
       "    }\n",
       "\n",
       "    .dataframe thead th {\n",
       "        text-align: right;\n",
       "    }\n",
       "</style>\n",
       "<table border=\"1\" class=\"dataframe\">\n",
       "  <thead>\n",
       "    <tr style=\"text-align: right;\">\n",
       "      <th></th>\n",
       "      <th>antibiotic_bene_count</th>\n",
       "      <th>opioid_all_count</th>\n",
       "      <th>opa_an_ratio</th>\n",
       "    </tr>\n",
       "    <tr>\n",
       "      <th>nppes_provider_state</th>\n",
       "      <th></th>\n",
       "      <th></th>\n",
       "      <th></th>\n",
       "    </tr>\n",
       "  </thead>\n",
       "  <tbody>\n",
       "    <tr>\n",
       "      <th>MP</th>\n",
       "      <td>362.0</td>\n",
       "      <td>79.0</td>\n",
       "      <td>0.218232</td>\n",
       "    </tr>\n",
       "    <tr>\n",
       "      <th>OR</th>\n",
       "      <td>390567.0</td>\n",
       "      <td>353780.0</td>\n",
       "      <td>0.905811</td>\n",
       "    </tr>\n",
       "  </tbody>\n",
       "</table>\n",
       "</div>"
      ],
      "text/plain": [
       "                      antibiotic_bene_count  opioid_all_count  opa_an_ratio\n",
       "nppes_provider_state                                                       \n",
       "MP                                    362.0              79.0      0.218232\n",
       "OR                                 390567.0          353780.0      0.905811"
      ]
     },
     "execution_count": 17,
     "metadata": {},
     "output_type": "execute_result"
    }
   ],
   "source": [
    "temp_17 = data_17[[\"nppes_provider_state\",\"opioid_bene_count\",\"la_opioid_bene_count\",\"antibiotic_bene_count\"]]\n",
    "temp_17 = temp_17.groupby([\"nppes_provider_state\"]).sum()\n",
    "temp_17.loc[:,\"opioid_all_count\"] = 0\n",
    "temp_17.loc[:,\"opioid_all_count\"] = temp_17.loc[:,\"opioid_bene_count\"]+temp_17.loc[:,\"la_opioid_bene_count\"]\n",
    "temp_17 = temp_17.drop(columns={\"opioid_bene_count\",\"la_opioid_bene_count\"})\n",
    "# temp_17 = temp_17.loc[~(temp_17==0).any(axis=1)]\n",
    "temp_17.loc[:,\"opa_an_ratio\"] = 0\n",
    "temp_17.loc[:,\"opa_an_ratio\"] = temp_17.loc[:,\"opioid_all_count\"]/temp_17.loc[:,\"antibiotic_bene_count\"]\n",
    "print(temp_17[\"opa_an_ratio\"].max()-temp_17[\"opa_an_ratio\"].min())\n",
    "temp_17[(temp_17[\"opa_an_ratio\"]==temp_17[\"opa_an_ratio\"].max()) | (temp_17[\"opa_an_ratio\"]==temp_17[\"opa_an_ratio\"].min())]"
   ]
  },
  {
   "cell_type": "markdown",
   "metadata": {},
   "source": [
    "---"
   ]
  },
  {
   "cell_type": "markdown",
   "metadata": {},
   "source": [
    "### Question 5:\n",
    "#### For each provider where the relevant columns are not suppressed, work out the fraction of claims for beneficiaries age 65 and older, as well as the fraction of claims for beneficiaries with a low-income subsidy. What is the Pearson correlation coefficient between these values?"
   ]
  },
  {
   "cell_type": "code",
   "execution_count": 18,
   "metadata": {},
   "outputs": [
    {
     "name": "stdout",
     "output_type": "stream",
     "text": [
      "-0.638931959567174\n"
     ]
    },
    {
     "data": {
      "text/html": [
       "<div>\n",
       "<style scoped>\n",
       "    .dataframe tbody tr th:only-of-type {\n",
       "        vertical-align: middle;\n",
       "    }\n",
       "\n",
       "    .dataframe tbody tr th {\n",
       "        vertical-align: top;\n",
       "    }\n",
       "\n",
       "    .dataframe thead th {\n",
       "        text-align: right;\n",
       "    }\n",
       "</style>\n",
       "<table border=\"1\" class=\"dataframe\">\n",
       "  <thead>\n",
       "    <tr style=\"text-align: right;\">\n",
       "      <th></th>\n",
       "      <th>total_claim_count</th>\n",
       "      <th>total_claim_count_ge65</th>\n",
       "      <th>lis_claim_count</th>\n",
       "      <th>frac_lis_claim_count</th>\n",
       "      <th>frac_claim_count_ge65</th>\n",
       "    </tr>\n",
       "  </thead>\n",
       "  <tbody>\n",
       "    <tr>\n",
       "      <th>0</th>\n",
       "      <td>677</td>\n",
       "      <td>516.0</td>\n",
       "      <td>305.0</td>\n",
       "      <td>0.450517</td>\n",
       "      <td>0.762186</td>\n",
       "    </tr>\n",
       "    <tr>\n",
       "      <th>1</th>\n",
       "      <td>1946</td>\n",
       "      <td>881.0</td>\n",
       "      <td>1184.0</td>\n",
       "      <td>0.608428</td>\n",
       "      <td>0.452724</td>\n",
       "    </tr>\n",
       "    <tr>\n",
       "      <th>4</th>\n",
       "      <td>90</td>\n",
       "      <td>65.0</td>\n",
       "      <td>73.0</td>\n",
       "      <td>0.811111</td>\n",
       "      <td>0.722222</td>\n",
       "    </tr>\n",
       "    <tr>\n",
       "      <th>5</th>\n",
       "      <td>2788</td>\n",
       "      <td>2700.0</td>\n",
       "      <td>1990.0</td>\n",
       "      <td>0.713773</td>\n",
       "      <td>0.968436</td>\n",
       "    </tr>\n",
       "    <tr>\n",
       "      <th>6</th>\n",
       "      <td>200</td>\n",
       "      <td>118.0</td>\n",
       "      <td>70.0</td>\n",
       "      <td>0.350000</td>\n",
       "      <td>0.590000</td>\n",
       "    </tr>\n",
       "  </tbody>\n",
       "</table>\n",
       "</div>"
      ],
      "text/plain": [
       "   total_claim_count  total_claim_count_ge65  lis_claim_count  \\\n",
       "0                677                   516.0            305.0   \n",
       "1               1946                   881.0           1184.0   \n",
       "4                 90                    65.0             73.0   \n",
       "5               2788                  2700.0           1990.0   \n",
       "6                200                   118.0             70.0   \n",
       "\n",
       "   frac_lis_claim_count  frac_claim_count_ge65  \n",
       "0              0.450517               0.762186  \n",
       "1              0.608428               0.452724  \n",
       "4              0.811111               0.722222  \n",
       "5              0.713773               0.968436  \n",
       "6              0.350000               0.590000  "
      ]
     },
     "execution_count": 18,
     "metadata": {},
     "output_type": "execute_result"
    }
   ],
   "source": [
    "temp_17 = data_17[[\"total_claim_count\",\"total_claim_count_ge65\",\"lis_claim_count\"]].dropna()\n",
    "temp_17.loc[:,\"frac_lis_claim_count\"] = 0\n",
    "temp_17.loc[:,\"frac_lis_claim_count\"] = temp_17.loc[:,\"lis_claim_count\"]/temp_17.loc[:,\"total_claim_count\"]\n",
    "temp_17.loc[:,\"frac_claim_count_ge65\"] = 0\n",
    "temp_17.loc[:,\"frac_claim_count_ge65\"] = temp_17.loc[:,\"total_claim_count_ge65\"]/temp_17.loc[:,\"total_claim_count\"]\n",
    "print(temp_17[[\"frac_lis_claim_count\",\"frac_claim_count_ge65\"]].corr(method='pearson').iloc[0,1])\n",
    "# temp_17.corr(method=histogram_intersection)\n",
    "temp_17.head()"
   ]
  },
  {
   "cell_type": "markdown",
   "metadata": {},
   "source": [
    "---"
   ]
  },
  {
   "cell_type": "markdown",
   "metadata": {},
   "source": [
    "### Question 6:\n",
    "#### Let's find which states have surprisingly high supply of opioids, conditioned on specialty. Work out the average length of an opioid prescription for each provider. For each (state, specialty) pair with at least 100 providers, calculate the average of this value across all providers. Then find the ratio of this value to an equivalent quantity calculated from providers in each specialty across all states. What is the largest such ratio?"
   ]
  },
  {
   "cell_type": "code",
   "execution_count": 25,
   "metadata": {},
   "outputs": [
    {
     "name": "stderr",
     "output_type": "stream",
     "text": [
      "/Library/Frameworks/Python.framework/Versions/3.7/lib/python3.7/site-packages/ipykernel_launcher.py:19: SettingWithCopyWarning: \n",
      "A value is trying to be set on a copy of a slice from a DataFrame.\n",
      "Try using .loc[row_indexer,col_indexer] = value instead\n",
      "\n",
      "See the caveats in the documentation: https://pandas.pydata.org/pandas-docs/stable/user_guide/indexing.html#returning-a-view-versus-a-copy\n"
     ]
    },
    {
     "name": "stdout",
     "output_type": "stream",
     "text": [
      "5.812587735278896\n"
     ]
    }
   ],
   "source": [
    "temp_17 = data_17[[\"nppes_provider_state\",\"specialty_description\",\"opioid_day_supply\",\"opioid_claim_count\"]]\n",
    "ratios=[]\n",
    "temp_17_by_specialty = temp_17.groupby(\"specialty_description\")\n",
    "for specialty, df_specialty in temp_17_by_specialty:\n",
    "    df_specialty[\"prescription_length\"]=df_specialty[\"opioid_day_supply\"]/df_specialty[\"opioid_claim_count\"]\n",
    "    avg=df_specialty[\"prescription_length\"].sum()/len(df_specialty)\n",
    "#     print('specialty_length: ', specialty, len(df_specialty))\n",
    "#     print('specialty_average: ', avg)\n",
    "    df_specialty_by_state=df_specialty.groupby(\"nppes_provider_state\")\n",
    "    for state, df_specialty_state in df_specialty_by_state:\n",
    "        if(len(df_specialty_state)>100):\n",
    "            avg_by_state=df_specialty_state[\"prescription_length\"].sum()/len(df_specialty_state)\n",
    "            ratios.append(avg_by_state/avg)\n",
    "#             print('state_specialty_average: ', state, avg_by_state)\n",
    "            \n",
    "# print(ratios)\n",
    "print(max(ratios))"
   ]
  },
  {
   "cell_type": "markdown",
   "metadata": {},
   "source": [
    "### Question 7:\n",
    "#### For each provider for whom the information is not suppressed, figure out the average cost per day of prescriptions in both 2016 and 2017. Use this to estimate the inflation rate for daily prescription costs per provider. What is the average inflation rate across all providers?"
   ]
  },
  {
   "cell_type": "code",
   "execution_count": 314,
   "metadata": {},
   "outputs": [],
   "source": [
    "temp_16 = data_16[[\"npi\",\"total_day_supply\",\"total_drug_cost\"]]\n",
    "temp_17 = data_17.loc[temp_16.index,:][[\"npi\",\"total_day_supply\",\"total_drug_cost\"]]\n"
   ]
  },
  {
   "cell_type": "code",
   "execution_count": 350,
   "metadata": {},
   "outputs": [],
   "source": [
    "infl_rate = pd.DataFrame(temp_16[[\"npi\"]])\n",
    "infl_rate.loc[:,\"cost_per_day_16\"] = 0\n",
    "infl_rate.loc[:,\"cost_per_day_17\"] = 0\n",
    "infl_rate.loc[:,\"cost_per_day_16\"] = temp_16[\"total_drug_cost\"]/temp_16[\"total_day_supply\"]\n",
    "infl_rate.loc[:,\"cost_per_day_17\"] = temp_17[\"total_drug_cost\"]/temp_17[\"total_day_supply\"]\n",
    "\n",
    "infl_rate = infl_rate.loc[~(infl_rate==0).any(axis=1)]\n",
    "# infl_rate"
   ]
  },
  {
   "cell_type": "code",
   "execution_count": 389,
   "metadata": {},
   "outputs": [
    {
     "name": "stdout",
     "output_type": "stream",
     "text": [
      "2.196307854321703\n"
     ]
    }
   ],
   "source": [
    "infl_rate.loc[:,\"inflation_rate_16_17\"] = 0\n",
    "infl_rate.loc[:,\"inflation_rate_16_17\"] = (infl_rate.loc[:,\"cost_per_day_17\"]-infl_rate.loc[:,\"cost_per_day_16\"])/infl_rate.loc[:,\"cost_per_day_16\"]\n",
    "print(infl_rate[\"inflation_rate_16_17\"].mean())"
   ]
  },
  {
   "cell_type": "markdown",
   "metadata": {},
   "source": [
    "---"
   ]
  },
  {
   "cell_type": "markdown",
   "metadata": {},
   "source": [
    "### Question 8:\n",
    "#### Consider all providers with a defined specialty in both years. Find the fraction of providers who left each specialty between 2016 and 2017. What is the largest such fraction, when considering specialties with at least 1000 proviers in 2016? Note that some specialties have a fraction of 1 due to specialty name changes between 2016 and 2017; disregard these specialties in calculating your answer."
   ]
  },
  {
   "cell_type": "code",
   "execution_count": 251,
   "metadata": {},
   "outputs": [],
   "source": [
    "spe_17 = data_17[[\"npi\",\"specialty_description\"]].groupby([\"specialty_description\"]).count()\n",
    "spe_16 = data_16[[\"npi\",\"specialty_description\"]].groupby([\"specialty_description\"]).count()"
   ]
  },
  {
   "cell_type": "code",
   "execution_count": 270,
   "metadata": {},
   "outputs": [
    {
     "data": {
      "text/plain": [
       "Index(['Allergy/ Immunology', 'Anesthesiology', 'Cardiac Surgery',\n",
       "       'Cardiovascular Disease (Cardiology)',\n",
       "       'Certified Clinical Nurse Specialist', 'Certified Nurse Midwife',\n",
       "       'Clinical Cardiatric Electrophysiology',\n",
       "       'Colorectal Surgery (Proctology)', 'Critical Care (Intensivists)',\n",
       "       'Dentist', 'Dermatology', 'Diagnostic Radiology', 'Emergency Medicine',\n",
       "       'Endocrinology', 'Family Practice', 'Gastroenterology',\n",
       "       'General Practice', 'General Surgery', 'Geriatric Medicine',\n",
       "       'Hand Surgery', 'Hematology-Oncology', 'Infectious Disease',\n",
       "       'Internal Medicine', 'Interventional Cardiology',\n",
       "       'Interventional Pain Management', 'Maxillofacial Surgery',\n",
       "       'Medical Oncology', 'Nephrology', 'Neurology', 'Neuropsychiatry',\n",
       "       'Neurosurgery', 'Nurse Practitioner', 'Obstetrics & Gynecology',\n",
       "       'Obstetrics/Gynecology', 'Ophthalmology', 'Optometry',\n",
       "       'Oral Surgery (Dentists only)', 'Orthopaedic Surgery',\n",
       "       'Orthopedic Surgery', 'Otolaryngology', 'Pain Management', 'Pathology',\n",
       "       'Pediatric Medicine', 'Pharmacist',\n",
       "       'Physical Medicine and Rehabilitation', 'Physician Assistant',\n",
       "       'Plastic Surgery', 'Plastic and Reconstructive Surgery', 'Podiatry',\n",
       "       'Preventive Medicine', 'Psychiatry', 'Psychiatry & Neurology',\n",
       "       'Pulmonary Disease', 'Radiation Oncology', 'Rheumatology', 'Specialist',\n",
       "       'Student in an Organized Health Care Education/Training Program',\n",
       "       'Thoracic Surgery', 'Urology', 'Vascular Surgery'],\n",
       "      dtype='object', name='specialty_description')"
      ]
     },
     "execution_count": 270,
     "metadata": {},
     "output_type": "execute_result"
    }
   ],
   "source": [
    "spe_16_1000plus = (spe_16[spe_16.iloc[:,0]>=1000].index)\n",
    "spe_16_1000plus"
   ]
  },
  {
   "cell_type": "code",
   "execution_count": 279,
   "metadata": {},
   "outputs": [
    {
     "data": {
      "text/plain": [
       "Index(['Allergy/ Immunology', 'Anesthesiology', 'Cardiac Surgery',\n",
       "       'Certified Clinical Nurse Specialist', 'Certified Nurse Midwife',\n",
       "       'Colorectal Surgery (Proctology)', 'Critical Care (Intensivists)',\n",
       "       'Dentist', 'Dermatology', 'Diagnostic Radiology', 'Emergency Medicine',\n",
       "       'Endocrinology', 'Family Practice', 'Gastroenterology',\n",
       "       'General Practice', 'General Surgery', 'Geriatric Medicine',\n",
       "       'Hand Surgery', 'Hematology-Oncology', 'Infectious Disease',\n",
       "       'Internal Medicine', 'Interventional Cardiology',\n",
       "       'Interventional Pain Management', 'Maxillofacial Surgery',\n",
       "       'Medical Oncology', 'Nephrology', 'Neurology', 'Neuropsychiatry',\n",
       "       'Neurosurgery', 'Nurse Practitioner', 'Obstetrics & Gynecology',\n",
       "       'Ophthalmology', 'Optometry', 'Orthopaedic Surgery',\n",
       "       'Orthopedic Surgery', 'Otolaryngology', 'Pain Management', 'Pathology',\n",
       "       'Pediatric Medicine', 'Pharmacist',\n",
       "       'Physical Medicine and Rehabilitation', 'Physician Assistant',\n",
       "       'Plastic Surgery', 'Plastic and Reconstructive Surgery', 'Podiatry',\n",
       "       'Preventive Medicine', 'Psychiatry', 'Psychiatry & Neurology',\n",
       "       'Pulmonary Disease', 'Radiation Oncology', 'Rheumatology', 'Specialist',\n",
       "       'Student in an Organized Health Care Education/Training Program',\n",
       "       'Thoracic Surgery', 'Urology', 'Vascular Surgery'],\n",
       "      dtype='object', name='specialty_description')"
      ]
     },
     "execution_count": 279,
     "metadata": {},
     "output_type": "execute_result"
    }
   ],
   "source": [
    "spe_17_1000plus_dropped_na = (spe_17.loc[spe_16_1000plus,:].dropna().index)\n",
    "spe_17_1000plus_dropped_na"
   ]
  },
  {
   "cell_type": "code",
   "execution_count": 426,
   "metadata": {},
   "outputs": [
    {
     "data": {
      "text/html": [
       "<div>\n",
       "<style scoped>\n",
       "    .dataframe tbody tr th:only-of-type {\n",
       "        vertical-align: middle;\n",
       "    }\n",
       "\n",
       "    .dataframe tbody tr th {\n",
       "        vertical-align: top;\n",
       "    }\n",
       "\n",
       "    .dataframe thead th {\n",
       "        text-align: right;\n",
       "    }\n",
       "</style>\n",
       "<table border=\"1\" class=\"dataframe\">\n",
       "  <thead>\n",
       "    <tr style=\"text-align: right;\">\n",
       "      <th></th>\n",
       "      <th>frac</th>\n",
       "    </tr>\n",
       "    <tr>\n",
       "      <th>specialty_description</th>\n",
       "      <th></th>\n",
       "    </tr>\n",
       "  </thead>\n",
       "  <tbody>\n",
       "    <tr>\n",
       "      <th>Allergy/ Immunology</th>\n",
       "      <td>-0.118333</td>\n",
       "    </tr>\n",
       "    <tr>\n",
       "      <th>Anesthesiology</th>\n",
       "      <td>0.017131</td>\n",
       "    </tr>\n",
       "    <tr>\n",
       "      <th>Cardiac Surgery</th>\n",
       "      <td>0.072758</td>\n",
       "    </tr>\n",
       "    <tr>\n",
       "      <th>Certified Clinical Nurse Specialist</th>\n",
       "      <td>0.021402</td>\n",
       "    </tr>\n",
       "    <tr>\n",
       "      <th>Certified Nurse Midwife</th>\n",
       "      <td>-0.030189</td>\n",
       "    </tr>\n",
       "  </tbody>\n",
       "</table>\n",
       "</div>"
      ],
      "text/plain": [
       "                                         frac\n",
       "specialty_description                        \n",
       "Allergy/ Immunology                 -0.118333\n",
       "Anesthesiology                       0.017131\n",
       "Cardiac Surgery                      0.072758\n",
       "Certified Clinical Nurse Specialist  0.021402\n",
       "Certified Nurse Midwife             -0.030189"
      ]
     },
     "execution_count": 426,
     "metadata": {},
     "output_type": "execute_result"
    }
   ],
   "source": [
    "frac_16_17_left_spe = (spe_16.loc[spe_17_1000plus_dropped_na,:]-spe_17.loc[spe_17_1000plus_dropped_na,:])/spe_16.loc[spe_17_1000plus_dropped_na,:]\n",
    "frac_16_17_left_spe = frac_16_17_left_spe.rename(columns={\"npi\": \"frac\"})\n",
    "frac_16_17_left_spe.head()"
   ]
  },
  {
   "cell_type": "code",
   "execution_count": 449,
   "metadata": {},
   "outputs": [
    {
     "name": "stdout",
     "output_type": "stream",
     "text": [
      "0.10131332082551595\n"
     ]
    },
    {
     "data": {
      "text/html": [
       "<div>\n",
       "<style scoped>\n",
       "    .dataframe tbody tr th:only-of-type {\n",
       "        vertical-align: middle;\n",
       "    }\n",
       "\n",
       "    .dataframe tbody tr th {\n",
       "        vertical-align: top;\n",
       "    }\n",
       "\n",
       "    .dataframe thead th {\n",
       "        text-align: right;\n",
       "    }\n",
       "</style>\n",
       "<table border=\"1\" class=\"dataframe\">\n",
       "  <thead>\n",
       "    <tr style=\"text-align: right;\">\n",
       "      <th></th>\n",
       "      <th>frac</th>\n",
       "    </tr>\n",
       "    <tr>\n",
       "      <th>specialty_description</th>\n",
       "      <th></th>\n",
       "    </tr>\n",
       "  </thead>\n",
       "  <tbody>\n",
       "    <tr>\n",
       "      <th>Pathology</th>\n",
       "      <td>0.101313</td>\n",
       "    </tr>\n",
       "  </tbody>\n",
       "</table>\n",
       "</div>"
      ],
      "text/plain": [
       "                           frac\n",
       "specialty_description          \n",
       "Pathology              0.101313"
      ]
     },
     "execution_count": 449,
     "metadata": {},
     "output_type": "execute_result"
    }
   ],
   "source": [
    "print(frac_16_17_left_spe[\"frac\"].max())\n",
    "idx_max_frac_16_17_left_spe = frac_16_17_left_spe.idxmax()\n",
    "frac_16_17_left_spe.loc[idx_max_frac_16_17_left_spe,:]"
   ]
  },
  {
   "cell_type": "markdown",
   "metadata": {},
   "source": [
    "---"
   ]
  }
 ],
 "metadata": {
  "kernelspec": {
   "display_name": "Python 3",
   "language": "python",
   "name": "python3"
  },
  "language_info": {
   "codemirror_mode": {
    "name": "ipython",
    "version": 3
   },
   "file_extension": ".py",
   "mimetype": "text/x-python",
   "name": "python",
   "nbconvert_exporter": "python",
   "pygments_lexer": "ipython3",
   "version": "3.7.1"
  }
 },
 "nbformat": 4,
 "nbformat_minor": 4
}
