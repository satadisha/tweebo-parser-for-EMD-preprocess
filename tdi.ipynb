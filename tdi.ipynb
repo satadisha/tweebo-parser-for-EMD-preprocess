{
 "cells": [
  {
   "cell_type": "code",
   "execution_count": 8,
   "metadata": {},
   "outputs": [
    {
     "name": "stdout",
     "output_type": "stream",
     "text": [
      "[1.0, 2.0, 3.0, 4.0, 5.0, 6.0, 7.0, 8.0, 9.0, 10.0, 11.0, 12.0, 13.0, 14.0, 15.0, 16.0, 17.0, 18.0, 19.0, 20.0]\n",
      "-1\n"
     ]
    }
   ],
   "source": [
    "import time\n",
    "numList=[float(i) for i in range(1,21)]\n",
    "print(numList)\n",
    "randomNum=-1\n",
    "print(str(randomNum))\n",
    "t_start = time.time()"
   ]
  },
  {
   "cell_type": "code",
   "execution_count": 9,
   "metadata": {},
   "outputs": [
    {
     "name": "stdout",
     "output_type": "stream",
     "text": [
      "at level 1 with input 1.0 : 3.2582168579101562\n",
      "at level 1 with input 2.0 : 1021.8382830619812\n",
      "at level 1 with input 3.0 : 2120.7074780464172\n",
      "at level 1 with input 4.0 : 3208.9489810466766\n",
      "at level 1 with input 5.0 : 3690.8637969493866\n",
      "at level 1 with input 6.0 : 3987.5701019763947\n",
      "at level 1 with input 7.0 : 4148.616477966309\n",
      "at level 1 with input 8.0 : 4244.381778240204\n",
      "at level 1 with input 9.0 : 4296.870902061462\n",
      "at level 1 with input 10.0 : 4324.700645208359\n",
      "at level 1 with input 11.0 : 4338.0715210437775\n",
      "at level 1 with input 12.0 : 4344.3457589149475\n",
      "at level 1 with input 13.0 : 4347.599504232407\n",
      "at level 1 with input 14.0 : 4349.650213003159\n",
      "at level 1 with input 15.0 : 4350.60200715065\n",
      "at level 1 with input 16.0 : 4351.1812200546265\n",
      "at level 1 with input 17.0 : 4351.74862408638\n",
      "at level 1 with input 18.0 : 4351.96013212204\n",
      "at level 1 with input 19.0 : 4352.1319851875305\n",
      "at level 1 with input 20.0 : 4352.263875007629\n"
     ]
    }
   ],
   "source": [
    "def buildTree(prefixSet,elem,level,availableSet):\n",
    "    global finalLevel\n",
    "    global t_start\n",
    "    currPrefix=','.join([str(i) for i in (sorted(prefixSet))])\n",
    "    uncomputed=[elem]+availableSet\n",
    "    if(level==1):\n",
    "        print('at level 1 with input '+str(elem)+' : '+str(time.time()-t_start))\n",
    "#     print('uncomputed: ',uncomputed)\n",
    "    start=uncomputed[0]\n",
    "    uncomputed=[coin-start for coin in uncomputed]\n",
    "    uncomputed_tup=','.join([str(i) for i in uncomputed]) #initially designed at tuple\n",
    "#     print('uncomputed reduced: ',uncomputed_tup)\n",
    "    if((currPrefix,elem,level) in memoize.keys()):\n",
    "        retLst= memoized_reductions[memoize[(currPrefix,elem,level)]]\n",
    "    elif(uncomputed_tup in memoized_reductions.keys()):\n",
    "#         print('gotcha!: ',uncomputed_tup)\n",
    "        retLst=memoized_reductions[uncomputed_tup]\n",
    "        memoize[(currPrefix,elem,level)]=uncomputed_tup\n",
    "    else:\n",
    "#         retLst=[]\n",
    "        retLst={}\n",
    "        if(level==finalLevel):\n",
    "            retLst[0]=1\n",
    "#             retLst=[0]\n",
    "        else:\n",
    "#             last_elem=prefixSet[-1]\n",
    "            for ind in range(len(availableSet)):\n",
    "                curr_elem=availableSet[ind]\n",
    "                if(ind==(len(availableSet)-1)):\n",
    "                    curr_avail=availableSet[:ind]\n",
    "                else:\n",
    "                    curr_avail=availableSet[:ind]+availableSet[ind+1:]\n",
    "                init_sum=abs(curr_elem-elem)\n",
    "                \n",
    "                retDict= buildTree(prefixSet+[elem],curr_elem,level+1,curr_avail)\n",
    "                for key in retDict.keys():\n",
    "                    try:\n",
    "                        retLst[init_sum+key]+=retDict[key]\n",
    "                    except:\n",
    "                        retLst[init_sum+key]=retDict[key]\n",
    "                    \n",
    "#                 ret=[init_sum+ret_elem for ret_elem in buildTree(prefixSet+[elem],curr_elem,level+1,curr_avail)]\n",
    "#                 retLst.extend(ret)\n",
    "        memoized_reductions[uncomputed_tup]=retLst\n",
    "        memoize[(currPrefix,elem,level)]=uncomputed_tup\n",
    "#     print(prefixSet,elem,level,availableSet)\n",
    "#     print(':',retLst)\n",
    "    return retLst\n",
    "        \n",
    "memoize={}\n",
    "memoized_reductions={}\n",
    "prefix=[]\n",
    "level=0\n",
    "finalLevel=len(numList)\n",
    "retVal=buildTree(prefix,0,level,numList)\n",
    "# print(retVal)"
   ]
  },
  {
   "cell_type": "code",
   "execution_count": 10,
   "metadata": {},
   "outputs": [
    {
     "ename": "KeyboardInterrupt",
     "evalue": "",
     "output_type": "error",
     "traceback": [
      "\u001b[0;31m---------------------------------------------------------------------------\u001b[0m",
      "\u001b[0;31mKeyboardInterrupt\u001b[0m                         Traceback (most recent call last)",
      "\u001b[0;32m<ipython-input-10-1f82f7488288>\u001b[0m in \u001b[0;36m<module>\u001b[0;34m\u001b[0m\n\u001b[0;32m----> 1\u001b[0;31m \u001b[0;32mimport\u001b[0m \u001b[0mpandas\u001b[0m \u001b[0;32mas\u001b[0m \u001b[0mpd\u001b[0m\u001b[0;34m\u001b[0m\u001b[0;34m\u001b[0m\u001b[0m\n\u001b[0m\u001b[1;32m      2\u001b[0m \u001b[0mdf\u001b[0m \u001b[0;34m=\u001b[0m \u001b[0mpd\u001b[0m\u001b[0;34m.\u001b[0m\u001b[0mDataFrame\u001b[0m\u001b[0;34m.\u001b[0m\u001b[0mfrom_dict\u001b[0m\u001b[0;34m(\u001b[0m\u001b[0mretVal\u001b[0m\u001b[0;34m,\u001b[0m \u001b[0morient\u001b[0m\u001b[0;34m=\u001b[0m\u001b[0;34m\"index\"\u001b[0m\u001b[0;34m)\u001b[0m\u001b[0;34m\u001b[0m\u001b[0;34m\u001b[0m\u001b[0m\n\u001b[1;32m      3\u001b[0m \u001b[0mdf\u001b[0m\u001b[0;34m.\u001b[0m\u001b[0mto_csv\u001b[0m\u001b[0;34m(\u001b[0m\u001b[0;34m\"dict.csv\"\u001b[0m\u001b[0;34m)\u001b[0m\u001b[0;34m\u001b[0m\u001b[0;34m\u001b[0m\u001b[0m\n",
      "\u001b[0;32m/Library/Frameworks/Python.framework/Versions/3.7/lib/python3.7/site-packages/pandas/__init__.py\u001b[0m in \u001b[0;36m<module>\u001b[0;34m\u001b[0m\n\u001b[1;32m      9\u001b[0m \u001b[0;32mfor\u001b[0m \u001b[0mdependency\u001b[0m \u001b[0;32min\u001b[0m \u001b[0mhard_dependencies\u001b[0m\u001b[0;34m:\u001b[0m\u001b[0;34m\u001b[0m\u001b[0;34m\u001b[0m\u001b[0m\n\u001b[1;32m     10\u001b[0m     \u001b[0;32mtry\u001b[0m\u001b[0;34m:\u001b[0m\u001b[0;34m\u001b[0m\u001b[0;34m\u001b[0m\u001b[0m\n\u001b[0;32m---> 11\u001b[0;31m         \u001b[0m__import__\u001b[0m\u001b[0;34m(\u001b[0m\u001b[0mdependency\u001b[0m\u001b[0;34m)\u001b[0m\u001b[0;34m\u001b[0m\u001b[0;34m\u001b[0m\u001b[0m\n\u001b[0m\u001b[1;32m     12\u001b[0m     \u001b[0;32mexcept\u001b[0m \u001b[0mImportError\u001b[0m \u001b[0;32mas\u001b[0m \u001b[0me\u001b[0m\u001b[0;34m:\u001b[0m\u001b[0;34m\u001b[0m\u001b[0;34m\u001b[0m\u001b[0m\n\u001b[1;32m     13\u001b[0m         \u001b[0mmissing_dependencies\u001b[0m\u001b[0;34m.\u001b[0m\u001b[0mappend\u001b[0m\u001b[0;34m(\u001b[0m\u001b[0;34mf\"{dependency}: {e}\"\u001b[0m\u001b[0;34m)\u001b[0m\u001b[0;34m\u001b[0m\u001b[0;34m\u001b[0m\u001b[0m\n",
      "\u001b[0;32m/Library/Frameworks/Python.framework/Versions/3.7/lib/python3.7/site-packages/numpy/__init__.py\u001b[0m in \u001b[0;36m<module>\u001b[0;34m\u001b[0m\n\u001b[1;32m    148\u001b[0m     \u001b[0;32mfrom\u001b[0m \u001b[0;34m.\u001b[0m \u001b[0;32mimport\u001b[0m \u001b[0mfft\u001b[0m\u001b[0;34m\u001b[0m\u001b[0;34m\u001b[0m\u001b[0m\n\u001b[1;32m    149\u001b[0m     \u001b[0;32mfrom\u001b[0m \u001b[0;34m.\u001b[0m \u001b[0;32mimport\u001b[0m \u001b[0mpolynomial\u001b[0m\u001b[0;34m\u001b[0m\u001b[0;34m\u001b[0m\u001b[0m\n\u001b[0;32m--> 150\u001b[0;31m     \u001b[0;32mfrom\u001b[0m \u001b[0;34m.\u001b[0m \u001b[0;32mimport\u001b[0m \u001b[0mrandom\u001b[0m\u001b[0;34m\u001b[0m\u001b[0;34m\u001b[0m\u001b[0m\n\u001b[0m\u001b[1;32m    151\u001b[0m     \u001b[0;32mfrom\u001b[0m \u001b[0;34m.\u001b[0m \u001b[0;32mimport\u001b[0m \u001b[0mctypeslib\u001b[0m\u001b[0;34m\u001b[0m\u001b[0;34m\u001b[0m\u001b[0m\n\u001b[1;32m    152\u001b[0m     \u001b[0;32mfrom\u001b[0m \u001b[0;34m.\u001b[0m \u001b[0;32mimport\u001b[0m \u001b[0mma\u001b[0m\u001b[0;34m\u001b[0m\u001b[0;34m\u001b[0m\u001b[0m\n",
      "\u001b[0;32m/Library/Frameworks/Python.framework/Versions/3.7/lib/python3.7/site-packages/numpy/random/__init__.py\u001b[0m in \u001b[0;36m<module>\u001b[0;34m\u001b[0m\n\u001b[1;32m    179\u001b[0m \u001b[0;34m\u001b[0m\u001b[0m\n\u001b[1;32m    180\u001b[0m \u001b[0;31m# add these for module-freeze analysis (like PyInstaller)\u001b[0m\u001b[0;34m\u001b[0m\u001b[0;34m\u001b[0m\u001b[0;34m\u001b[0m\u001b[0m\n\u001b[0;32m--> 181\u001b[0;31m \u001b[0;32mfrom\u001b[0m \u001b[0;34m.\u001b[0m \u001b[0;32mimport\u001b[0m \u001b[0m_pickle\u001b[0m\u001b[0;34m\u001b[0m\u001b[0;34m\u001b[0m\u001b[0m\n\u001b[0m\u001b[1;32m    182\u001b[0m \u001b[0;32mfrom\u001b[0m \u001b[0;34m.\u001b[0m \u001b[0;32mimport\u001b[0m \u001b[0mcommon\u001b[0m\u001b[0;34m\u001b[0m\u001b[0;34m\u001b[0m\u001b[0m\n\u001b[1;32m    183\u001b[0m \u001b[0;32mfrom\u001b[0m \u001b[0;34m.\u001b[0m \u001b[0;32mimport\u001b[0m \u001b[0mbounded_integers\u001b[0m\u001b[0;34m\u001b[0m\u001b[0;34m\u001b[0m\u001b[0m\n",
      "\u001b[0;32m/Library/Frameworks/Python.framework/Versions/3.7/lib/python3.7/site-packages/numpy/random/_pickle.py\u001b[0m in \u001b[0;36m<module>\u001b[0;34m\u001b[0m\n\u001b[1;32m      4\u001b[0m \u001b[0;32mfrom\u001b[0m \u001b[0;34m.\u001b[0m\u001b[0msfc64\u001b[0m \u001b[0;32mimport\u001b[0m \u001b[0mSFC64\u001b[0m\u001b[0;34m\u001b[0m\u001b[0;34m\u001b[0m\u001b[0m\n\u001b[1;32m      5\u001b[0m \u001b[0;34m\u001b[0m\u001b[0m\n\u001b[0;32m----> 6\u001b[0;31m \u001b[0;32mfrom\u001b[0m \u001b[0;34m.\u001b[0m\u001b[0mgenerator\u001b[0m \u001b[0;32mimport\u001b[0m \u001b[0mGenerator\u001b[0m\u001b[0;34m\u001b[0m\u001b[0;34m\u001b[0m\u001b[0m\n\u001b[0m\u001b[1;32m      7\u001b[0m \u001b[0;32mfrom\u001b[0m \u001b[0;34m.\u001b[0m\u001b[0mmt19937\u001b[0m \u001b[0;32mimport\u001b[0m \u001b[0mMT19937\u001b[0m\u001b[0;34m\u001b[0m\u001b[0;34m\u001b[0m\u001b[0m\n\u001b[1;32m      8\u001b[0m \u001b[0;34m\u001b[0m\u001b[0m\n",
      "\u001b[0;32m__init__.pxd\u001b[0m in \u001b[0;36minit numpy.random.generator\u001b[0;34m()\u001b[0m\n",
      "\u001b[0;32m/Library/Frameworks/Python.framework/Versions/3.7/lib/python3.7/importlib/_bootstrap.py\u001b[0m in \u001b[0;36m_lock_unlock_module\u001b[0;34m(name)\u001b[0m\n",
      "\u001b[0;31mKeyboardInterrupt\u001b[0m: "
     ]
    }
   ],
   "source": [
    "import pandas as pd\n",
    "df = pd.DataFrame.from_dict(retVal, orient=\"index\")\n",
    "df.to_csv(\"dict.csv\")"
   ]
  },
  {
   "cell_type": "code",
   "execution_count": 4,
   "metadata": {},
   "outputs": [
    {
     "name": "stdout",
     "output_type": "stream",
     "text": [
      "1956280854528000.0 20922789888000\n"
     ]
    }
   ],
   "source": [
    "retValSum=sum([key*retVal[key] for key in retVal.keys()])\n",
    "retValLen=sum(retVal.values())\n",
    "print(retValSum,retValLen)"
   ]
  },
  {
   "cell_type": "code",
   "execution_count": 5,
   "metadata": {},
   "outputs": [
    {
     "name": "stdout",
     "output_type": "stream",
     "text": [
      "93.5\n"
     ]
    }
   ],
   "source": [
    "print(retValSum/retValLen)"
   ]
  },
  {
   "cell_type": "code",
   "execution_count": 20,
   "metadata": {},
   "outputs": [
    {
     "name": "stdout",
     "output_type": "stream",
     "text": [
      "28 6\n",
      "4.666666666666667\n"
     ]
    }
   ],
   "source": [
    "print(sum(retVal),len(retVal))\n",
    "print(sum(retVal)/len(retVal))"
   ]
  },
  {
   "cell_type": "code",
   "execution_count": null,
   "metadata": {},
   "outputs": [],
   "source": []
  }
 ],
 "metadata": {
  "kernelspec": {
   "display_name": "Python 3",
   "language": "python",
   "name": "python3"
  },
  "language_info": {
   "codemirror_mode": {
    "name": "ipython",
    "version": 3
   },
   "file_extension": ".py",
   "mimetype": "text/x-python",
   "name": "python",
   "nbconvert_exporter": "python",
   "pygments_lexer": "ipython3",
   "version": "3.7.1"
  }
 },
 "nbformat": 4,
 "nbformat_minor": 4
}
